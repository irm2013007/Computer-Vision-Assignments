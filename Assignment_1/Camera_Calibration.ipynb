{
 "cells": [
  {
   "cell_type": "code",
   "execution_count": 1,
   "metadata": {
    "collapsed": false
   },
   "outputs": [],
   "source": [
    "import cv2, numpy as np, glob"
   ]
  },
  {
   "cell_type": "code",
   "execution_count": 2,
   "metadata": {
    "collapsed": true
   },
   "outputs": [],
   "source": [
    "def dist(pt1, pt2):\n",
    "    d = 0.0\n",
    "    for i in range(len(pt1)):\n",
    "        d += (pt1[i]-pt2[i])**2\n",
    "    \n",
    "    return d**(0.5)"
   ]
  },
  {
   "cell_type": "code",
   "execution_count": 3,
   "metadata": {
    "collapsed": false
   },
   "outputs": [],
   "source": [
    "def saveImage():\n",
    "    cap = cv2.VideoCapture(0)\n",
    "\n",
    "    while(True):\n",
    "        # Capture frame-by-frame\n",
    "        ret, frame = cap.read()\n",
    "\n",
    "        cv2.imshow('frame',frame)\n",
    "        if cv2.waitKey(1) & 0xFF == ord('q'):\n",
    "            cv2.imwrite('capture5.jpg', frame)\n",
    "            break\n",
    "\n",
    "    # When everything done, release the capture\n",
    "    cap.release()\n",
    "    cv2.destroyAllWindows()"
   ]
  },
  {
   "cell_type": "code",
   "execution_count": 4,
   "metadata": {
    "collapsed": true
   },
   "outputs": [],
   "source": [
    "#saveImage()"
   ]
  },
  {
   "cell_type": "code",
   "execution_count": 5,
   "metadata": {
    "collapsed": true
   },
   "outputs": [],
   "source": [
    "pts = []\n",
    "pts2 =[]\n",
    "im = cv2.imread('capture.jpg')"
   ]
  },
  {
   "cell_type": "code",
   "execution_count": 6,
   "metadata": {
    "collapsed": true
   },
   "outputs": [],
   "source": [
    "RealWorldDistance = 25"
   ]
  },
  {
   "cell_type": "code",
   "execution_count": 7,
   "metadata": {
    "collapsed": true
   },
   "outputs": [],
   "source": [
    "def store_point_coordinate(event,x,y,flags,param):  # stores values in point\n",
    "    font = cv2.FONT_HERSHEY_SIMPLEX\n",
    "    if event == cv2.EVENT_FLAG_LBUTTON and len(pts) < 4:\n",
    "        cv2.circle(im,(x,y), 2, (255,255,255), -1)\n",
    "        cv2.putText(im,str(x) + ' ' + str(y),(x-20,y-20),font,0.3,(255,255,255),1,cv2.LINE_AA)\n",
    "        pts.append([x,y])\n",
    "        print x, y"
   ]
  },
  {
   "cell_type": "code",
   "execution_count": 8,
   "metadata": {
    "collapsed": true
   },
   "outputs": [],
   "source": [
    "def store_pen_coordinate(event,x,y,flags,param):  # stores values in point\n",
    "    font = cv2.FONT_HERSHEY_SIMPLEX\n",
    "    if event == cv2.EVENT_FLAG_LBUTTON and len(pts2) < 2:\n",
    "        cv2.circle(im,(x,y), 2, (255,255,255), -1)\n",
    "        cv2.putText(im,str(x) + ' ' + str(y),(x-20,y-20),font,0.3,(255,255,255),1,cv2.LINE_AA)\n",
    "        pts2.append([x,y])\n",
    "        print x, y"
   ]
  },
  {
   "cell_type": "code",
   "execution_count": 9,
   "metadata": {
    "collapsed": false
   },
   "outputs": [],
   "source": [
    "def savePoints():\n",
    "    global pts, pts2\n",
    "    cv2.namedWindow('img1')\n",
    "    cv2.setMouseCallback('img1',store_point_coordinate)         \n",
    "\n",
    "    while(True):                        # storing 4 points into pts1, which is used for mapping\n",
    "        cv2.imshow('img1',im)\n",
    "        if(cv2.waitKey(30) == 27 or len(pts) >= 4):\n",
    "            break\n",
    "    cv2.destroyWindow('img1')\n",
    "    pts = np.float32(pts)\n",
    "    \n",
    "    cv2.namedWindow('img1')\n",
    "    cv2.setMouseCallback('img1',store_pen_coordinate)         \n",
    "\n",
    "    while(True):                        # storing 4 points into pts1, which is used for mapping\n",
    "        cv2.imshow('img1',im)\n",
    "        if(cv2.waitKey(30) == 27 or len(pts2) >= 2):\n",
    "            break\n",
    "    cv2.destroyWindow('img1')\n",
    "    pts2 = np.float32(pts2)"
   ]
  },
  {
   "cell_type": "code",
   "execution_count": 10,
   "metadata": {
    "collapsed": true
   },
   "outputs": [],
   "source": [
    "pts1 = np.float32([[100, 100], [100, 200], [200, 200], [200, 100]])"
   ]
  },
  {
   "cell_type": "code",
   "execution_count": 11,
   "metadata": {
    "collapsed": false
   },
   "outputs": [],
   "source": [
    "images = glob.glob('input/*.jpg')\n",
    "def save():\n",
    "\n",
    "    j = 0\n",
    "    for i in images:\n",
    "        im = cv2.imread(i)\n",
    "        savePoints()\n",
    "        M = cv2.getPerspectiveTransform(pts, pts1)\n",
    "        np.save('PerspectiveTransformationArray/'+`j`+ '.npy', M)\n",
    "        np.save('PerspectiveTransformationArray/'+`j`+ 'pen.npy', pts2)\n",
    "        np.save('PerspectiveTransformationArray/'+`j`+ 'world.npy', pts)\n",
    "        j += 1\n",
    "        pts = []\n",
    "        pts2 =[]"
   ]
  },
  {
   "cell_type": "code",
   "execution_count": 12,
   "metadata": {
    "collapsed": true
   },
   "outputs": [],
   "source": [
    "#save()"
   ]
  },
  {
   "cell_type": "code",
   "execution_count": 26,
   "metadata": {
    "collapsed": false
   },
   "outputs": [
    {
     "name": "stdout",
     "output_type": "stream",
     "text": [
      "[[ 521.  239.]\n",
      " [ 356.  200.]]\n",
      "[(171, 139), (225, 158)]\n",
      "57.2450871254\n",
      "[[ 367.   70.]\n",
      " [ 259.    2.]]\n",
      "[(137, 27), (178, 71)]\n",
      "60.141499815\n",
      "[[ 363.  135.]\n",
      " [ 319.   40.]]\n",
      "[(164, 118), (174, 61)]\n",
      "57.8705451849\n",
      "[[  54.  140.]\n",
      " [ 183.  204.]]\n",
      "[(57, 74), (89, 125)]\n",
      "60.207972894\n",
      "[[ 520.  242.]\n",
      " [ 356.  202.]]\n",
      "[(171, 139), (225, 159)]\n",
      "57.5847201956\n",
      "[[ 325.  293.]\n",
      " [ 159.  271.]]\n",
      "[(69, 153), (116, 184)]\n",
      "56.302753041\n"
     ]
    }
   ],
   "source": [
    "J = 0\n",
    "total = 0\n",
    "CameraWorldDistance = dist(pts1[0], pts1[1])\n",
    "\n",
    "for i in images:\n",
    "    im = cv2.imread(i) \n",
    "    x, y, z = im.shape\n",
    "    x, y, z\n",
    "    newim = np.zeros((x, y, 3), dtype = np.uint8)\n",
    "    M = np.load('PerspectiveTransformationArray/'+`J`+ '.npy')\n",
    "    pts2 = np.load('PerspectiveTransformationArray/'+`J`+ 'pen.npy')\n",
    "    pts = np.load('PerspectiveTransformationArray/'+`J`+ 'world.npy')\n",
    "    #print pts \n",
    "    print pts2\n",
    "    for i in pts2:\n",
    "        cv2.circle(newim, (int(i[[0]]), int(i[1])), 1, (255, 255, 255), -1)\n",
    "    dst1= cv2.warpPerspective(newim, M, (y, x))\n",
    "    dst = cv2.warpPerspective(im, M, (y, x))\n",
    "    cv2.imshow('image', dst)\n",
    "    cv2.imshow('image1',dst1)\n",
    "    cv2.waitKey(0)\n",
    "    cv2.destroyAllWindows()\n",
    "    \n",
    "    pen = []\n",
    "    i = 0\n",
    "    j = 0\n",
    "    while i< x:\n",
    "        while j < y:\n",
    "            if(len(pen) == 2):\n",
    "                break;\n",
    "            if (not dst1[i, j].any() == 0):\n",
    "                pen.append((i, j))\n",
    "                j += 2\n",
    "                i+= 2\n",
    "            j += 1\n",
    "        i += 1\n",
    "        j = 0\n",
    "        if(len(pen) == 2):\n",
    "            break\n",
    "\n",
    "    print pen\n",
    "    print dist(pen[0], pen[1])\n",
    "    original = dist(pen[0], pen[1])*RealWorldDistance/CameraWorldDistance\n",
    "    total += original\n",
    "    J+=1\n",
    "        "
   ]
  },
  {
   "cell_type": "code",
   "execution_count": 28,
   "metadata": {
    "collapsed": false
   },
   "outputs": [
    {
     "name": "stdout",
     "output_type": "stream",
     "text": [
      "14.5563574273\n"
     ]
    }
   ],
   "source": [
    "print total/J\n",
    "#newim[int(i[1]), int(i[0])] = (255, 255, 255)"
   ]
  },
  {
   "cell_type": "code",
   "execution_count": null,
   "metadata": {
    "collapsed": true
   },
   "outputs": [],
   "source": [
    "# REFERENCE :::http://math.stackexchange.com/questions/494238/how-to-compute-homography-matrix-h-from-corresponding-points-2d-2d-planar-homog"
   ]
  }
 ],
 "metadata": {
  "kernelspec": {
   "display_name": "Python 2",
   "language": "python",
   "name": "python2"
  },
  "language_info": {
   "codemirror_mode": {
    "name": "ipython",
    "version": 2
   },
   "file_extension": ".py",
   "mimetype": "text/x-python",
   "name": "python",
   "nbconvert_exporter": "python",
   "pygments_lexer": "ipython2",
   "version": "2.7.12"
  }
 },
 "nbformat": 4,
 "nbformat_minor": 2
}
